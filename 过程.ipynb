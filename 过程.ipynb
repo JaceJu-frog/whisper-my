{
 "cells": [
  {
   "cell_type": "code",
   "execution_count": null,
   "metadata": {},
   "outputs": [],
   "source": [
    "看到一个基于vue3的视频播放器，但太重。\n",
    "\n",
    "首先基于 vue3@latest，构建一个极简的播放器。只有上传文档和vue基本的播放。\n",
    "然后 加载字幕，并且按时间划分。\n",
    "然后变成滚动。\n",
    "然后创建双向的链接，即字幕可以点击跳转到对应的视频位置，视频也可以跳转到对应的字幕位置。\n",
    "\n",
    "增加单击跳转，双击编辑。\n"
   ]
  }
 ],
 "metadata": {
  "language_info": {
   "name": "python"
  }
 },
 "nbformat": 4,
 "nbformat_minor": 2
}
